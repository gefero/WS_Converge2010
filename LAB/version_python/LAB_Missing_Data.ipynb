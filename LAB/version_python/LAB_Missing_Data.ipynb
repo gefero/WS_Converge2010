{
 "cells": [
  {
   "cell_type": "markdown",
   "metadata": {},
   "source": [
    "# LAB\n",
    "\n",
    "# Missing Data Imputation usando Ensamble Learning\n",
    "\n",
    "## Introducción"
   ]
  },
  {
   "cell_type": "code",
   "execution_count": null,
   "metadata": {},
   "outputs": [],
   "source": []
  },
  {
   "cell_type": "markdown",
   "metadata": {},
   "source": [
    "## Cargando los paquetes a utilizar"
   ]
  },
  {
   "cell_type": "code",
   "execution_count": 12,
   "metadata": {},
   "outputs": [],
   "source": [
    "import pandas as pd\n",
    "import numpy as np\n",
    "from sklearn.model_selection import train_test_split\n",
    "from sklearn.ensemble import BaggingRegressor, RandomForestRegressor\n",
    "from sklearn.ensemble import AdaBoostRegressor, GradientBoostingRegressor"
   ]
  },
  {
   "cell_type": "markdown",
   "metadata": {},
   "source": [
    "## Cargando los datos"
   ]
  },
  {
   "cell_type": "code",
   "execution_count": 4,
   "metadata": {},
   "outputs": [],
   "source": [
    "df = pd.read_csv('../data_eph.csv', delimiter=\";\")"
   ]
  },
  {
   "cell_type": "code",
   "execution_count": 6,
   "metadata": {},
   "outputs": [
    {
     "data": {
      "text/html": [
       "<div>\n",
       "<style scoped>\n",
       "    .dataframe tbody tr th:only-of-type {\n",
       "        vertical-align: middle;\n",
       "    }\n",
       "\n",
       "    .dataframe tbody tr th {\n",
       "        vertical-align: top;\n",
       "    }\n",
       "\n",
       "    .dataframe thead th {\n",
       "        text-align: right;\n",
       "    }\n",
       "</style>\n",
       "<table border=\"1\" class=\"dataframe\">\n",
       "  <thead>\n",
       "    <tr style=\"text-align: right;\">\n",
       "      <th></th>\n",
       "      <th>region</th>\n",
       "      <th>mas_500</th>\n",
       "      <th>aglomerado</th>\n",
       "      <th>ch03</th>\n",
       "      <th>ch04</th>\n",
       "      <th>ch06</th>\n",
       "      <th>ch07</th>\n",
       "      <th>ch08</th>\n",
       "      <th>ch09</th>\n",
       "      <th>ch15</th>\n",
       "      <th>...</th>\n",
       "      <th>p21</th>\n",
       "      <th>t_vi</th>\n",
       "      <th>imp_inglab1</th>\n",
       "      <th>carac</th>\n",
       "      <th>calif</th>\n",
       "      <th>rama_ag</th>\n",
       "      <th>tam</th>\n",
       "      <th>htot</th>\n",
       "      <th>subs</th>\n",
       "      <th>aportes</th>\n",
       "    </tr>\n",
       "  </thead>\n",
       "  <tbody>\n",
       "    <tr>\n",
       "      <th>0</th>\n",
       "      <td>Pampeana</td>\n",
       "      <td>Aglomerados de 500.000 y más hab.</td>\n",
       "      <td>Gran La Plata</td>\n",
       "      <td>Cónyuge/Pareja</td>\n",
       "      <td>Varón</td>\n",
       "      <td>46</td>\n",
       "      <td>Unido</td>\n",
       "      <td>Obra social (incluye PAMI)</td>\n",
       "      <td>Sí</td>\n",
       "      <td>En esta localidad</td>\n",
       "      <td>...</td>\n",
       "      <td>6000</td>\n",
       "      <td>0</td>\n",
       "      <td>0</td>\n",
       "      <td>80</td>\n",
       "      <td>Operativo</td>\n",
       "      <td>Industria Manufacturera</td>\n",
       "      <td>3</td>\n",
       "      <td>45</td>\n",
       "      <td>No percibe</td>\n",
       "      <td>Tiene aportes</td>\n",
       "    </tr>\n",
       "    <tr>\n",
       "      <th>1</th>\n",
       "      <td>Pampeana</td>\n",
       "      <td>Aglomerados de 500.000 y más hab.</td>\n",
       "      <td>Gran La Plata</td>\n",
       "      <td>Jefe</td>\n",
       "      <td>Mujer</td>\n",
       "      <td>26</td>\n",
       "      <td>Soltero</td>\n",
       "      <td>Obra social (incluye PAMI)</td>\n",
       "      <td>Sí</td>\n",
       "      <td>En otra provincia (especificar)</td>\n",
       "      <td>...</td>\n",
       "      <td>5000</td>\n",
       "      <td>0</td>\n",
       "      <td>0</td>\n",
       "      <td>56</td>\n",
       "      <td>No calificado</td>\n",
       "      <td>Enseñanza</td>\n",
       "      <td>2</td>\n",
       "      <td>25</td>\n",
       "      <td>No percibe</td>\n",
       "      <td>Tiene aportes</td>\n",
       "    </tr>\n",
       "    <tr>\n",
       "      <th>2</th>\n",
       "      <td>Pampeana</td>\n",
       "      <td>Aglomerados de 500.000 y más hab.</td>\n",
       "      <td>Gran La Plata</td>\n",
       "      <td>Otros familiares</td>\n",
       "      <td>Varón</td>\n",
       "      <td>47</td>\n",
       "      <td>Soltero</td>\n",
       "      <td>Obra social (incluye PAMI)</td>\n",
       "      <td>Sí</td>\n",
       "      <td>En otra provincia (especificar)</td>\n",
       "      <td>...</td>\n",
       "      <td>5000</td>\n",
       "      <td>0</td>\n",
       "      <td>0</td>\n",
       "      <td>72</td>\n",
       "      <td>Operativo</td>\n",
       "      <td>Enseñanza</td>\n",
       "      <td>2</td>\n",
       "      <td>25</td>\n",
       "      <td>No percibe</td>\n",
       "      <td>Tiene aportes</td>\n",
       "    </tr>\n",
       "    <tr>\n",
       "      <th>3</th>\n",
       "      <td>Pampeana</td>\n",
       "      <td>Aglomerados de 500.000 y más hab.</td>\n",
       "      <td>Gran La Plata</td>\n",
       "      <td>Cónyuge/Pareja</td>\n",
       "      <td>Varón</td>\n",
       "      <td>52</td>\n",
       "      <td>Unido</td>\n",
       "      <td>Obra social (incluye PAMI)</td>\n",
       "      <td>Sí</td>\n",
       "      <td>En otra provincia (especificar)</td>\n",
       "      <td>...</td>\n",
       "      <td>6500</td>\n",
       "      <td>0</td>\n",
       "      <td>0</td>\n",
       "      <td>34</td>\n",
       "      <td>Operativo</td>\n",
       "      <td>Administración Pública y Defensa; Planes de Se...</td>\n",
       "      <td>2</td>\n",
       "      <td>90</td>\n",
       "      <td>No percibe</td>\n",
       "      <td>Tiene aportes</td>\n",
       "    </tr>\n",
       "    <tr>\n",
       "      <th>4</th>\n",
       "      <td>Pampeana</td>\n",
       "      <td>Aglomerados de 500.000 y más hab.</td>\n",
       "      <td>Gran La Plata</td>\n",
       "      <td>Jefe</td>\n",
       "      <td>Varón</td>\n",
       "      <td>45</td>\n",
       "      <td>Casado</td>\n",
       "      <td>Obra social (incluye PAMI)</td>\n",
       "      <td>Sí</td>\n",
       "      <td>En esta localidad</td>\n",
       "      <td>...</td>\n",
       "      <td>9500</td>\n",
       "      <td>0</td>\n",
       "      <td>0</td>\n",
       "      <td>82</td>\n",
       "      <td>Operativo</td>\n",
       "      <td>Comercio al por Mayor y al por Menor; Reparaci...</td>\n",
       "      <td>1</td>\n",
       "      <td>44</td>\n",
       "      <td>No percibe</td>\n",
       "      <td>Tiene aportes</td>\n",
       "    </tr>\n",
       "  </tbody>\n",
       "</table>\n",
       "<p>5 rows × 27 columns</p>\n",
       "</div>"
      ],
      "text/plain": [
       "     region                            mas_500     aglomerado  \\\n",
       "0  Pampeana  Aglomerados de 500.000 y más hab.  Gran La Plata   \n",
       "1  Pampeana  Aglomerados de 500.000 y más hab.  Gran La Plata   \n",
       "2  Pampeana  Aglomerados de 500.000 y más hab.  Gran La Plata   \n",
       "3  Pampeana  Aglomerados de 500.000 y más hab.  Gran La Plata   \n",
       "4  Pampeana  Aglomerados de 500.000 y más hab.  Gran La Plata   \n",
       "\n",
       "               ch03   ch04  ch06     ch07                        ch08 ch09  \\\n",
       "0    Cónyuge/Pareja  Varón    46    Unido  Obra social (incluye PAMI)   Sí   \n",
       "1              Jefe  Mujer    26  Soltero  Obra social (incluye PAMI)   Sí   \n",
       "2  Otros familiares  Varón    47  Soltero  Obra social (incluye PAMI)   Sí   \n",
       "3    Cónyuge/Pareja  Varón    52    Unido  Obra social (incluye PAMI)   Sí   \n",
       "4              Jefe  Varón    45   Casado  Obra social (incluye PAMI)   Sí   \n",
       "\n",
       "                              ch15      ...         p21 t_vi imp_inglab1  \\\n",
       "0                En esta localidad      ...        6000    0           0   \n",
       "1  En otra provincia (especificar)      ...        5000    0           0   \n",
       "2  En otra provincia (especificar)      ...        5000    0           0   \n",
       "3  En otra provincia (especificar)      ...        6500    0           0   \n",
       "4                En esta localidad      ...        9500    0           0   \n",
       "\n",
       "   carac          calif                                            rama_ag  \\\n",
       "0     80      Operativo                            Industria Manufacturera   \n",
       "1     56  No calificado                                          Enseñanza   \n",
       "2     72      Operativo                                          Enseñanza   \n",
       "3     34      Operativo  Administración Pública y Defensa; Planes de Se...   \n",
       "4     82      Operativo  Comercio al por Mayor y al por Menor; Reparaci...   \n",
       "\n",
       "   tam  htot        subs        aportes  \n",
       "0    3    45  No percibe  Tiene aportes  \n",
       "1    2    25  No percibe  Tiene aportes  \n",
       "2    2    25  No percibe  Tiene aportes  \n",
       "3    2    90  No percibe  Tiene aportes  \n",
       "4    1    44  No percibe  Tiene aportes  \n",
       "\n",
       "[5 rows x 27 columns]"
      ]
     },
     "execution_count": 6,
     "metadata": {},
     "output_type": "execute_result"
    }
   ],
   "source": [
    "df.head()"
   ]
  },
  {
   "cell_type": "code",
   "execution_count": 25,
   "metadata": {},
   "outputs": [],
   "source": [
    "# Hacer el encoding.."
   ]
  },
  {
   "cell_type": "code",
   "execution_count": null,
   "metadata": {},
   "outputs": [],
   "source": []
  },
  {
   "cell_type": "code",
   "execution_count": null,
   "metadata": {},
   "outputs": [],
   "source": []
  },
  {
   "cell_type": "code",
   "execution_count": null,
   "metadata": {},
   "outputs": [],
   "source": []
  },
  {
   "cell_type": "code",
   "execution_count": null,
   "metadata": {},
   "outputs": [],
   "source": []
  },
  {
   "cell_type": "code",
   "execution_count": 11,
   "metadata": {},
   "outputs": [],
   "source": [
    "rf = RandomForestRegressor(n_estimators=100)\n",
    "gbm = GradientBoostingRegressor(n_estimators=100)"
   ]
  },
  {
   "cell_type": "code",
   "execution_count": 22,
   "metadata": {},
   "outputs": [],
   "source": [
    "X = df.drop('p21', axis=1)\n",
    "y = df['p21']\n",
    "y = np.log10(y)"
   ]
  },
  {
   "cell_type": "code",
   "execution_count": 23,
   "metadata": {},
   "outputs": [],
   "source": [
    "X_train, X_test, y_train, y_test = train_test_split(X, y, test_size=0.3)"
   ]
  },
  {
   "cell_type": "code",
   "execution_count": null,
   "metadata": {},
   "outputs": [],
   "source": []
  }
 ],
 "metadata": {
  "kernelspec": {
   "display_name": "Python 3",
   "language": "python",
   "name": "python3"
  },
  "language_info": {
   "codemirror_mode": {
    "name": "ipython",
    "version": 3
   },
   "file_extension": ".py",
   "mimetype": "text/x-python",
   "name": "python",
   "nbconvert_exporter": "python",
   "pygments_lexer": "ipython3",
   "version": "3.6.5"
  }
 },
 "nbformat": 4,
 "nbformat_minor": 2
}
